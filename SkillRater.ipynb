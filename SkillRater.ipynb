{
 "cells": [
  {
   "cell_type": "code",
   "execution_count": null,
   "metadata": {},
   "outputs": [],
   "source": [
    "import matplotlib.pyplot as plt\n",
    "import numpy as np\n",
    "\n",
    "from collections import defaultdict"
   ]
  },
  {
   "cell_type": "code",
   "execution_count": null,
   "metadata": {},
   "outputs": [],
   "source": [
    "from skillrater import SkillRater\n",
    "import views"
   ]
  },
  {
   "cell_type": "code",
   "execution_count": null,
   "metadata": {},
   "outputs": [],
   "source": [
    "sr = SkillRater()"
   ]
  },
  {
   "cell_type": "code",
   "execution_count": null,
   "metadata": {},
   "outputs": [],
   "source": [
    "sr.get_info('varunpolpakkara')"
   ]
  },
  {
   "cell_type": "code",
   "execution_count": null,
   "metadata": {},
   "outputs": [],
   "source": [
    "sr.get_repos('varunpolpakkara')"
   ]
  },
  {
   "cell_type": "code",
   "execution_count": null,
   "metadata": {},
   "outputs": [],
   "source": [
    "sr.get_pull_requests('varunpolpakkara')"
   ]
  },
  {
   "cell_type": "code",
   "execution_count": null,
   "metadata": {},
   "outputs": [],
   "source": [
    "sr.list_languages('thezillion', 'Algorithms')"
   ]
  },
  {
   "cell_type": "code",
   "execution_count": null,
   "metadata": {},
   "outputs": [],
   "source": [
    "langs = sr.list_languages('sivasama', 'accepted-codes')\n",
    "count = 0\n",
    "\n",
    "labels = []\n",
    "values = []\n",
    "\n",
    "for k,v in langs.items():\n",
    "    count = count + 1\n",
    "    labels.append(k)\n",
    "    values.append(v)\n",
    "\n",
    "plt.bar(np.arange((count)), values)\n",
    "plt.xticks(np.arange(count), labels, fontsize=12)\n",
    "plt.show()    "
   ]
  },
  {
   "cell_type": "code",
   "execution_count": null,
   "metadata": {},
   "outputs": [],
   "source": [
    "repos = sr.get_repos('sivasama')\n",
    "print(repos)\n",
    "\n",
    "values = defaultdict(list)\n",
    "labels = set()\n",
    "count=0\n",
    "\n",
    "for repo in repos:\n",
    "    if not repo['fork']:\n",
    "        lang = sr.list_languages(repo['owner']['login'], repo['name'])\n",
    "        for k,v in lang.items():\n",
    "            values[k].append(v)\n",
    "            labels.append(k)\n",
    "count=count+1\n",
    "\n",
    "print(labels)\n",
    "print(values)\n",
    "\n",
    "plt.bar(np.arange((count)), values)\n",
    "plt.xticks(np.arange(count), labels, fontsize=12)\n",
    "plt.show()"
   ]
  }
 ],
 "metadata": {
  "kernelspec": {
   "display_name": "Python 3",
   "language": "python",
   "name": "python3"
  },
  "language_info": {
   "codemirror_mode": {
    "name": "ipython",
    "version": 3
   },
   "file_extension": ".py",
   "mimetype": "text/x-python",
   "name": "python",
   "nbconvert_exporter": "python",
   "pygments_lexer": "ipython3",
   "version": "3.5.2"
  }
 },
 "nbformat": 4,
 "nbformat_minor": 2
}
